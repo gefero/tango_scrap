{
 "cells": [
  {
   "cell_type": "code",
   "execution_count": 1,
   "metadata": {},
   "outputs": [],
   "source": [
    "import pandas as pd\n",
    "import numpy as np\n",
    "import re\n",
    "from fuzzywuzzy import fuzz\n",
    "from fuzzywuzzy import process"
   ]
  },
  {
   "cell_type": "markdown",
   "metadata": {},
   "source": [
    "#### Función para fuzzy matching de titulos"
   ]
  },
  {
   "cell_type": "code",
   "execution_count": 2,
   "metadata": {},
   "outputs": [],
   "source": [
    "def title_matcher(title, title_list, thresh=75):\n",
    "    matchs = process.extract(title, title_list, scorer=fuzz.token_sort_ratio)\n",
    "    matchs = [m for m in matchs if m[1] >= thresh]\n",
    "    if len(matchs) > 0 and matchs != []:\n",
    "        matchs = matchs[0]\n",
    "    else:\n",
    "        matchs = ()\n",
    "    return(matchs)"
   ]
  },
  {
   "cell_type": "code",
   "execution_count": 3,
   "metadata": {},
   "outputs": [
    {
     "data": {
      "text/plain": [
       "Index(['AUTHOR', 'AUTHOR (2)', 'COMPOSER', 'DATE', 'DIRECTOR', 'LYRICS',\n",
       "       'ORCHESTRA', 'SINGER', 'SOLOIST', 'TITLE', 'URL'],\n",
       "      dtype='object')"
      ]
     },
     "execution_count": 3,
     "metadata": {},
     "output_type": "execute_result"
    }
   ],
   "source": [
    "df = pd.read_csv('../Data/El_Recodo_letras.csv')\n",
    "df.drop([' BPM', ' POPULARITY'], axis=1, inplace=True)\n",
    "df.columns"
   ]
  },
  {
   "cell_type": "code",
   "execution_count": 4,
   "metadata": {},
   "outputs": [],
   "source": [
    "pattern = re.compile('\\((.*?)\\)')\n",
    "df['GENRE'] = df['TITLE'].str.findall(pattern).str.join('')\n",
    "df['TITLE'] = df['TITLE'].str.replace(pattern, '')\n",
    "df['TITLE'] = df['TITLE'].str.strip()\n",
    "df['TITLE'] = df['TITLE'].str.lower()\n",
    "df['TITLE'] = df['TITLE'].str.replace('á', 'a')\n",
    "df['TITLE'] = df['TITLE'].str.replace('é', 'e')\n",
    "df['TITLE'] = df['TITLE'].str.replace('í', 'i')\n",
    "df['TITLE'] = df['TITLE'].str.replace('ó', 'o')\n",
    "df['TITLE'] = df['TITLE'].str.replace('ú', 'u')"
   ]
  },
  {
   "cell_type": "code",
   "execution_count": 5,
   "metadata": {},
   "outputs": [],
   "source": [
    "pattern = 'EL RECODO TANGO\\n\\t\\t\\tDesign Web: Gregory DIAZ'\n",
    "df['LYRICS'] = [np.NAN if i == pattern else i for i in df['LYRICS']]"
   ]
  },
  {
   "cell_type": "code",
   "execution_count": 6,
   "metadata": {},
   "outputs": [],
   "source": [
    "df['ano'] = df['DATE'].str.slice(0,4)"
   ]
  },
  {
   "cell_type": "code",
   "execution_count": 7,
   "metadata": {},
   "outputs": [],
   "source": [
    "df.columns = ['autor', 'autor2', 'compositor', 'fecha', 'director', 'letra', 'orquesta', 'cantante', 'solista', \n",
    "              'titulo', 'link', 'ritmo', 'ano']"
   ]
  },
  {
   "cell_type": "code",
   "execution_count": 8,
   "metadata": {},
   "outputs": [],
   "source": [
    "df_recodo = df.sort_values('fecha').groupby('titulo', as_index=False).first()\n",
    "df_recodo.drop(['autor2', 'director', 'orquesta', 'cantante', 'solista'], axis=1, inplace=True)"
   ]
  },
  {
   "cell_type": "markdown",
   "metadata": {},
   "source": [
    "## Match fechas"
   ]
  },
  {
   "cell_type": "code",
   "execution_count": 9,
   "metadata": {},
   "outputs": [],
   "source": [
    "df_ttango = pd.read_csv('../Data/Todo_Tango_letras_final.csv')"
   ]
  },
  {
   "cell_type": "code",
   "execution_count": 10,
   "metadata": {},
   "outputs": [],
   "source": [
    "df_recodo = df_recodo[~df_recodo.letra.isnull()]"
   ]
  },
  {
   "cell_type": "code",
   "execution_count": 11,
   "metadata": {},
   "outputs": [],
   "source": [
    "df_merged = df_ttango.merge(df_recodo, on='titulo', how='left')"
   ]
  },
  {
   "cell_type": "code",
   "execution_count": 12,
   "metadata": {},
   "outputs": [
    {
     "data": {
      "text/plain": [
       "(7179, 14)"
      ]
     },
     "execution_count": 12,
     "metadata": {},
     "output_type": "execute_result"
    }
   ],
   "source": [
    "df_merged[(df_merged.ano_x == 'vacio')].shape"
   ]
  },
  {
   "cell_type": "code",
   "execution_count": 13,
   "metadata": {},
   "outputs": [
    {
     "data": {
      "text/plain": [
       "(10056, 14)"
      ]
     },
     "execution_count": 13,
     "metadata": {},
     "output_type": "execute_result"
    }
   ],
   "source": [
    "df_merged.shape"
   ]
  },
  {
   "cell_type": "code",
   "execution_count": 14,
   "metadata": {},
   "outputs": [
    {
     "data": {
      "text/plain": [
       "(1378, 14)"
      ]
     },
     "execution_count": 14,
     "metadata": {},
     "output_type": "execute_result"
    }
   ],
   "source": [
    "df_merged[(df_merged.ano_x == 'vacio') & ~(df_merged.ano_y.isnull())].shape"
   ]
  },
  {
   "cell_type": "code",
   "execution_count": 19,
   "metadata": {},
   "outputs": [],
   "source": [
    "df_merged['letra_cons'] = df_merged['letra_x']"
   ]
  },
  {
   "cell_type": "code",
   "execution_count": 20,
   "metadata": {},
   "outputs": [],
   "source": [
    "df_merged.loc[(df_merged.letra_x.isnull()) & (~df_merged.letra_y.isnull()), 'letra_cons'] = df_merged[(df_merged.letra_x.isnull()) & (~df_merged.letra_y.isnull())].letra_y"
   ]
  },
  {
   "cell_type": "code",
   "execution_count": 23,
   "metadata": {},
   "outputs": [
    {
     "data": {
      "text/plain": [
       "False    6260\n",
       "True     3796\n",
       "Name: letra_cons, dtype: int64"
      ]
     },
     "execution_count": 23,
     "metadata": {},
     "output_type": "execute_result"
    }
   ],
   "source": [
    "df_merged['letra_cons'].isnull().value_counts()"
   ]
  },
  {
   "cell_type": "code",
   "execution_count": 24,
   "metadata": {},
   "outputs": [
    {
     "data": {
      "text/plain": [
       "False    5733\n",
       "True     4323\n",
       "Name: letra_x, dtype: int64"
      ]
     },
     "execution_count": 24,
     "metadata": {},
     "output_type": "execute_result"
    }
   ],
   "source": [
    "df_merged['letra_x'].isnull().value_counts()"
   ]
  },
  {
   "cell_type": "code",
   "execution_count": 46,
   "metadata": {},
   "outputs": [
    {
     "data": {
      "text/plain": [
       "vacio    7179\n",
       "Name: ano_x, dtype: int64"
      ]
     },
     "execution_count": 46,
     "metadata": {},
     "output_type": "execute_result"
    }
   ],
   "source": [
    "df_merged[df_merged['ano_x']=='vacio'].ano_x.value_counts()"
   ]
  },
  {
   "cell_type": "code",
   "execution_count": 37,
   "metadata": {},
   "outputs": [],
   "source": [
    "df_merged['year_cons'] = df_merged['ano_x']"
   ]
  },
  {
   "cell_type": "code",
   "execution_count": 45,
   "metadata": {},
   "outputs": [],
   "source": [
    "df_merged.loc[(df_merged.ano_x == 'vacio') & (~df_merged.ano_y.isnull()),'year_cons'] = df_merged.loc[(df_merged.ano_x == 'vacio') & (~df_merged.ano_y.isnull())].ano_y"
   ]
  },
  {
   "cell_type": "code",
   "execution_count": 47,
   "metadata": {},
   "outputs": [
    {
     "data": {
      "text/plain": [
       "vacio    5801\n",
       "Name: ano_x, dtype: int64"
      ]
     },
     "execution_count": 47,
     "metadata": {},
     "output_type": "execute_result"
    }
   ],
   "source": [
    "df_merged[df_merged['year_cons']=='vacio'].ano_x.value_counts()"
   ]
  },
  {
   "cell_type": "code",
   "execution_count": 49,
   "metadata": {},
   "outputs": [],
   "source": [
    "df_merged.columns = ['link_tt', 'titulo', 'ritmo_tt', 'ano_tt', 'musica_tt', 'compositor_tt',\n",
    "       'letra_tt', 'autor_re', 'compositor_re', 'fecha_re', 'letra_re', 'link_re',\n",
    "       'ritmo_re', 'ano_re', 'letra_cons', 'year_cons']"
   ]
  },
  {
   "cell_type": "code",
   "execution_count": 50,
   "metadata": {},
   "outputs": [],
   "source": [
    "df_merged.to_csv('../Data/data_merged_raw', index=False, sep=\";\")"
   ]
  },
  {
   "cell_type": "code",
   "execution_count": 52,
   "metadata": {},
   "outputs": [],
   "source": [
    "df_merged.drop(['ano_tt',  'letra_tt', 'letra_re', 'fecha_re', 'ritmo_re', 'ano_re'], axis=1, inplace=True)"
   ]
  },
  {
   "cell_type": "code",
   "execution_count": 53,
   "metadata": {},
   "outputs": [],
   "source": [
    "df_merged.to_csv('../Data/data_merged_proc', index=False, sep=\";\")"
   ]
  },
  {
   "cell_type": "code",
   "execution_count": null,
   "metadata": {},
   "outputs": [],
   "source": []
  },
  {
   "cell_type": "code",
   "execution_count": null,
   "metadata": {},
   "outputs": [],
   "source": []
  },
  {
   "cell_type": "code",
   "execution_count": null,
   "metadata": {},
   "outputs": [],
   "source": []
  },
  {
   "cell_type": "code",
   "execution_count": null,
   "metadata": {},
   "outputs": [],
   "source": []
  },
  {
   "cell_type": "code",
   "execution_count": null,
   "metadata": {},
   "outputs": [],
   "source": []
  },
  {
   "cell_type": "code",
   "execution_count": null,
   "metadata": {},
   "outputs": [],
   "source": []
  },
  {
   "cell_type": "code",
   "execution_count": null,
   "metadata": {},
   "outputs": [],
   "source": []
  },
  {
   "cell_type": "code",
   "execution_count": null,
   "metadata": {},
   "outputs": [],
   "source": [
    "df_ttango_NA = df_ttango[df_ttango['ano'] == 'vacio']"
   ]
  },
  {
   "cell_type": "code",
   "execution_count": null,
   "metadata": {},
   "outputs": [],
   "source": [
    "matched = df_ttango_NA.loc[0:10, 'titulo'].apply(title_matcher, title_list=df_recodo['TITLE'])"
   ]
  },
  {
   "cell_type": "code",
   "execution_count": null,
   "metadata": {},
   "outputs": [],
   "source": [
    "matched"
   ]
  },
  {
   "cell_type": "code",
   "execution_count": null,
   "metadata": {
    "scrolled": false
   },
   "outputs": [],
   "source": [
    "matched2 = [t for t in matched if t != []]\n",
    "titles = [t[0] for t in matched2 if t[1] > 90]\n",
    "f1tt = [True if t in titles else False for t in df_ttango['titulo']]\n",
    "f2tt = df_ttango['ano'] == 'vacio'\n",
    "filtrec = [True if t in titles else False for t in df_recodo['TITLE']]"
   ]
  },
  {
   "cell_type": "code",
   "execution_count": null,
   "metadata": {},
   "outputs": [],
   "source": [
    "df_ttango.loc[f1tt & f2tt, 'ano2'].shape"
   ]
  },
  {
   "cell_type": "code",
   "execution_count": null,
   "metadata": {},
   "outputs": [],
   "source": [
    "df_recodo.loc[filtrec].DATE.shape"
   ]
  },
  {
   "cell_type": "code",
   "execution_count": null,
   "metadata": {},
   "outputs": [],
   "source": [
    "df_recodo.loc[filtrec, ['TITLE','DATE']]"
   ]
  },
  {
   "cell_type": "code",
   "execution_count": null,
   "metadata": {},
   "outputs": [],
   "source": [
    "df_ttango.loc[filttt, ['titulo', 'ano']]"
   ]
  },
  {
   "cell_type": "code",
   "execution_count": null,
   "metadata": {},
   "outputs": [],
   "source": [
    "df_ttango2.ano.isnull().value_counts()"
   ]
  },
  {
   "cell_type": "code",
   "execution_count": null,
   "metadata": {},
   "outputs": [],
   "source": [
    "df_ttango.ano.isnull().value_counts()"
   ]
  },
  {
   "cell_type": "markdown",
   "metadata": {},
   "source": [
    "### Matcheamos letras"
   ]
  },
  {
   "cell_type": "code",
   "execution_count": null,
   "metadata": {},
   "outputs": [],
   "source": [
    "df_ttango[df_ttango['titulo'] == matched].ano = df_recodo[df_recodo['TITLE'] == matched].DATE"
   ]
  },
  {
   "cell_type": "code",
   "execution_count": null,
   "metadata": {},
   "outputs": [],
   "source": [
    "#matched = [i for i in matched if i != []]"
   ]
  },
  {
   "cell_type": "code",
   "execution_count": null,
   "metadata": {},
   "outputs": [],
   "source": [
    "df[df['titulo'] == matched].ano = df_recodo[df_recodo['TITLE'] == matched].DATE"
   ]
  }
 ],
 "metadata": {
  "kernelspec": {
   "display_name": "Python 3",
   "language": "python",
   "name": "python3"
  },
  "language_info": {
   "codemirror_mode": {
    "name": "ipython",
    "version": 3
   },
   "file_extension": ".py",
   "mimetype": "text/x-python",
   "name": "python",
   "nbconvert_exporter": "python",
   "pygments_lexer": "ipython3",
   "version": "3.6.7"
  }
 },
 "nbformat": 4,
 "nbformat_minor": 2
}
